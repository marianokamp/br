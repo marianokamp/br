{
 "cells": [
  {
   "cell_type": "code",
   "execution_count": null,
   "id": "383b6af9-1074-48e0-98bc-5e5f2aec58fb",
   "metadata": {},
   "outputs": [],
   "source": [
    "%load_ext autoreload\n",
    "%autoreload 2\n",
    "\n",
    "%matplotlib inline"
   ]
  },
  {
   "cell_type": "code",
   "execution_count": null,
   "id": "e6192574-db3e-4add-8536-d6086852abf6",
   "metadata": {},
   "outputs": [],
   "source": [
    "import pandas as pd\n",
    "import numpy as np\n",
    "import altair as alt"
   ]
  },
  {
   "cell_type": "code",
   "execution_count": null,
   "id": "6174be46-c6d5-40a3-ada8-3813c0cc67e9",
   "metadata": {},
   "outputs": [],
   "source": [
    "!pip install pyathena"
   ]
  },
  {
   "cell_type": "code",
   "execution_count": null,
   "id": "071c968a-9549-4b94-9a37-622983405147",
   "metadata": {},
   "outputs": [],
   "source": [
    "query = '''\n",
    "SELECT \n",
    "    scenario,\n",
    "    model_id as model,\n",
    "    region,\n",
    "    \n",
    "    executed_at, \n",
    "    year(executed_at) as year,\n",
    "    month(executed_at) as month,\n",
    "    day(executed_at) as day,\n",
    "    hour(executed_at) as hour,\n",
    "    minute(executed_at) as minute,\n",
    "    \n",
    "    metrics.inputtokencount   as input_token_count,\n",
    "    metrics.outputtokencount as output_token_count,\n",
    "    \n",
    "    metrics.firstbytelatency/1000. as server_first_byte_latency_s,\n",
    "    metrics.invocationlatency/1000. as server_invocation_latency_s,\n",
    "    \n",
    "    client_measured_latency_s as client_invocation_latency_s,\n",
    "    client_measured_time_to_first_token_s as client_first_token_latency_s\n",
    "     \n",
    "FROM \"default\".\"run_reports\"\n",
    "'''"
   ]
  },
  {
   "cell_type": "code",
   "execution_count": null,
   "id": "523631ba-e2c0-49a9-a717-9453a8fae946",
   "metadata": {},
   "outputs": [],
   "source": [
    "%%time\n",
    "import pandas as pd\n",
    "from pyathena import connect\n",
    "\n",
    "pd.set_option(\"display.precision\", 4)\n",
    "\n",
    "conn = connect(s3_staging_dir='s3://mkamp-aws-dub/athena/tmp/')\n",
    "all_runs_df = pd.read_sql(query, conn)\n",
    "conn.close()\n",
    "\n",
    "all_runs_df"
   ]
  },
  {
   "cell_type": "code",
   "execution_count": null,
   "id": "7ab32fdf-1800-4bcd-aeb0-5d4470ba545c",
   "metadata": {},
   "outputs": [],
   "source": [
    "all_runs_df.groupby('scenario').agg({'input_token_count': 'mean', 'output_token_count': 'mean'}).astype(int)"
   ]
  },
  {
   "cell_type": "code",
   "execution_count": null,
   "id": "e8897980-b054-497d-a96a-05746cc655b3",
   "metadata": {},
   "outputs": [],
   "source": [
    "# Max tokens:\n",
    "# Long, long:  12_000 \n",
    "# Long, short: 12_000\n",
    "# Short, long:  1_500\n",
    "# Short, short:   150"
   ]
  },
  {
   "cell_type": "code",
   "execution_count": null,
   "id": "530faa76-2af9-49df-a19a-419e8fe2cfbd",
   "metadata": {},
   "outputs": [],
   "source": [
    "all_runs_df.groupby(['scenario', 'model']).agg({'client_invocation_latency_s': 'median', 'client_first_token_latency_s': 'median'})"
   ]
  },
  {
   "cell_type": "code",
   "execution_count": null,
   "id": "dab5a90d-277f-4965-b55e-17615c032fb2",
   "metadata": {},
   "outputs": [],
   "source": [
    "all_runs_df[['server_first_byte_latency_s', 'client_first_token_latency_s', ]]"
   ]
  },
  {
   "cell_type": "code",
   "execution_count": null,
   "id": "99f7c9c3-24c8-4517-8271-13d7166baaa6",
   "metadata": {},
   "outputs": [],
   "source": [
    "abs((all_runs_df['server_first_byte_latency_s']-all_runs_df['client_first_token_latency_s'])/all_runs_df['client_first_token_latency_s']).mean()"
   ]
  },
  {
   "cell_type": "code",
   "execution_count": null,
   "id": "4b3ef670-988d-4aea-9170-593aaeab022c",
   "metadata": {},
   "outputs": [],
   "source": [
    "abs((all_runs_df['server_invocation_latency_s']-all_runs_df['client_invocation_latency_s'])/all_runs_df['client_invocation_latency_s']).mean()"
   ]
  },
  {
   "cell_type": "code",
   "execution_count": null,
   "id": "21545fee-2d47-4adc-97b5-d39c735b2b18",
   "metadata": {},
   "outputs": [],
   "source": [
    "def p50(x):\n",
    "    return x.quantile(0.5)\n",
    "def p90(x):\n",
    "    return x.quantile(0.9)\n",
    "def rstd(x):\n",
    "    return x.std()/x.median()\n",
    "\n",
    "all_runs_df.groupby(['scenario', 'model', 'region']).agg(\n",
    "    {\n",
    "        'server_first_byte_latency_s': ['count', 'min', p50, p90, 'max', 'std', rstd],\n",
    "        'server_invocation_latency_s': ['min', p50, p90, 'max', 'std', rstd],\n",
    "    \n",
    "    })"
   ]
  },
  {
   "cell_type": "code",
   "execution_count": null,
   "id": "4e47a5d8-5822-47c4-9d78-231d7e558a7e",
   "metadata": {},
   "outputs": [],
   "source": [
    "all_runs_df.groupby(['scenario', 'model']).agg(\n",
    "    {\n",
    "        'server_first_byte_latency_s': ['count', 'min', p50, p90, 'max', 'std', rstd],\n",
    "        'server_invocation_latency_s': ['min', p50, p90, 'max', 'std', rstd],\n",
    "    \n",
    "    })"
   ]
  },
  {
   "cell_type": "code",
   "execution_count": null,
   "id": "c1bb0d04-94a2-41a1-afcd-ab87f947c473",
   "metadata": {},
   "outputs": [],
   "source": [
    "def latency_chart(field):\n",
    "    base = alt.Chart(all_runs_df)\n",
    "\n",
    "    bars = base.mark_bar(color=\"orange\", opacity=0.8).encode(\n",
    "        y=alt.Y(f\"median({field})\"),\n",
    "        x=alt.X(\"model:N\"),\n",
    "    )\n",
    "    error_bars = base.mark_errorbar(color='black', opacity=0.8, extent=\"stdev\").encode(\n",
    "        x=alt.X(\"model:N\"),\n",
    "        y=alt.Y(f\"{field}:Q\"),\n",
    "    )\n",
    "    mean_circles = base.mark_circle(color='black', opacity=0.8, size=15).encode(\n",
    "        x=alt.X(\"model:N\"),\n",
    "        y=alt.Y(f\"mean({field}):Q\"),\n",
    "    )\n",
    "   \n",
    "    return (bars + error_bars + mean_circles).facet('scenario:N').properties(title=field)\n",
    "latency_chart('client_first_token_latency_s')"
   ]
  },
  {
   "cell_type": "code",
   "execution_count": null,
   "id": "cea8ccba-c7c4-4b9b-a734-664027dabf9b",
   "metadata": {},
   "outputs": [],
   "source": [
    "latency_chart('client_invocation_latency_s')"
   ]
  },
  {
   "cell_type": "code",
   "execution_count": null,
   "id": "2b3bd174-b74a-4949-8704-80e6b2d2bcf1",
   "metadata": {},
   "outputs": [],
   "source": [
    "scenario_df = all_runs_df[all_runs_df.scenario == 'Long prompt, short completion']\n",
    "#scenario_df = all_runs_df[all_runs_df.scenario == 'Short prompt, long completion']\n",
    "\n",
    "scenario_df.groupby(['model']).agg(\n",
    "    {\n",
    "        'server_first_byte_latency_s': ['count', 'min', p50, p90, 'max', 'std', rstd],\n",
    "        'server_invocation_latency_s': ['min', p50, p90, 'max', 'std', rstd],\n",
    "    \n",
    "    })"
   ]
  },
  {
   "cell_type": "code",
   "execution_count": null,
   "id": "4f503382-f46a-42ae-a5a7-d2f20883436b",
   "metadata": {},
   "outputs": [],
   "source": [
    "def over_time_chart(field):\n",
    "    base = alt.Chart(scenario_df)\n",
    "    scatter = base.mark_circle(color=\"orange\", size=50, opacity=0.8).encode(\n",
    "        y=alt.Y(f'{field}:Q'),\n",
    "        x=alt.X(\"executed_at:T\"),\n",
    "        tooltip=[f'{field}:Q', \n",
    "                 alt.Tooltip('executed_at:T', format=\"%B %d, %Y %H:%M:%S\")]\n",
    "    )\n",
    "    loess = scatter.transform_loess('executed_at', field, bandwidth=0.5).mark_line(color='grey', size=2, opacity=0.8)\n",
    "    \n",
    "    return (scatter+loess).facet(column='model:N', row='region:N').properties(title=field)\n",
    "over_time_chart('client_first_token_latency_s')"
   ]
  },
  {
   "cell_type": "code",
   "execution_count": null,
   "id": "8ae5bab8-cfa5-419d-9ebf-b26702aab173",
   "metadata": {},
   "outputs": [],
   "source": [
    "over_time_chart('client_invocation_latency_s')"
   ]
  },
  {
   "cell_type": "code",
   "execution_count": null,
   "id": "a95d7baf-0d8e-4538-8d65-960533fbcfdd",
   "metadata": {},
   "outputs": [],
   "source": [
    "one_model_df = all_runs_df[all_runs_df.model == 'anthropic.claude-v2:1']\n",
    "def over_time_chart(field):\n",
    "    base = alt.Chart(all_runs_df)\n",
    "\n",
    "    bar = base.mark_bar().encode(\n",
    "        x= alt.X(f\"{field}:Q\", bin=alt.Bin(step=0.5)),\n",
    "        y='count()',\n",
    "    )\n",
    "    \n",
    "    return bar.facet(row='model:N', column='scenario:N')\n",
    "over_time_chart('client_first_token_latency_s')"
   ]
  },
  {
   "cell_type": "code",
   "execution_count": null,
   "id": "0fe142b2-9681-49a5-b72b-c1bcece07bb3",
   "metadata": {},
   "outputs": [],
   "source": []
  }
 ],
 "metadata": {
  "kernelspec": {
   "display_name": "Python 3 (ipykernel)",
   "language": "python",
   "name": "python3"
  },
  "language_info": {
   "codemirror_mode": {
    "name": "ipython",
    "version": 3
   },
   "file_extension": ".py",
   "mimetype": "text/x-python",
   "name": "python",
   "nbconvert_exporter": "python",
   "pygments_lexer": "ipython3",
   "version": "3.11.0"
  }
 },
 "nbformat": 4,
 "nbformat_minor": 5
}
